{
 "cells": [
  {
   "cell_type": "code",
   "execution_count": null,
   "metadata": {},
   "outputs": [],
   "source": [
    "from utilities.checkvalidfile import checkValidFile\n",
    "from utilities.finddatecreated import findDateCreated\n",
    "from utilities.checkvaliddir import checkValidDirectory\n",
    "from utilities.findfilename import findFileName\n",
    "from defaults import Defaults\n",
    "import moviepy\n",
    "from moviepy.video.compositing.concatenate import concatenate_videoclips\n",
    "from video.source_video import SourceVideo\n",
    "from video.export_video import ExportVideo\n",
    "import os"
   ]
  },
  {
   "cell_type": "code",
   "execution_count": 1,
   "metadata": {},
   "outputs": [],
   "source": [
    "\n",
    "from defaults import Defaults\n",
    "from video.source_video import SourceVideoDir\n",
    "\n",
    "defaults = Defaults()\n",
    "\n",
    "# source = SourceVideoDir(defaults)\n"
   ]
  },
  {
   "cell_type": "code",
   "execution_count": 2,
   "metadata": {},
   "outputs": [],
   "source": [
    "from csvfile import CsvFile\n",
    "\n",
    "csvfile = CsvFile(defaults)\n",
    "csvfile.importCsv()\n"
   ]
  },
  {
   "cell_type": "code",
   "execution_count": 3,
   "metadata": {},
   "outputs": [
    {
     "name": "stdout",
     "output_type": "stream",
     "text": [
      "GH0545_01.mp4\n",
      "{'Start Time': 347.0, 'Stop Time': 378.0}\n",
      "GH0545_03.mp4\n",
      "{'Start Time': 425.0, 'Stop Time': 435.0}\n",
      "Moviepy - Building video G:/DCIM/100GOPRO/date_activity_person.mp4_Ali.mp4.\n",
      "MoviePy - Writing audio in date_activity_person.mp4_AliTEMP_MPY_wvf_snd.mp3\n"
     ]
    },
    {
     "name": "stderr",
     "output_type": "stream",
     "text": [
      "                                                                   \r"
     ]
    },
    {
     "name": "stdout",
     "output_type": "stream",
     "text": [
      "MoviePy - Done.\n",
      "Moviepy - Writing video G:/DCIM/100GOPRO/date_activity_person.mp4_Ali.mp4\n",
      "\n"
     ]
    },
    {
     "name": "stderr",
     "output_type": "stream",
     "text": [
      "                                                                \r"
     ]
    },
    {
     "name": "stdout",
     "output_type": "stream",
     "text": [
      "Moviepy - Done !\n",
      "Moviepy - video ready G:/DCIM/100GOPRO/date_activity_person.mp4_Ali.mp4\n",
      "GH0545_03.mp4\n",
      "{'Start Time': 260.0, 'Stop Time': 267.0}\n",
      "GH0545_03.mp4\n",
      "{'Start Time': 308.0, 'Stop Time': 317.0}\n",
      "Moviepy - Building video G:/DCIM/100GOPRO/date_activity_person.mp4_Fergus.mp4.\n",
      "MoviePy - Writing audio in date_activity_person.mp4_FergusTEMP_MPY_wvf_snd.mp3\n"
     ]
    },
    {
     "name": "stderr",
     "output_type": "stream",
     "text": [
      "                                                                  \r"
     ]
    },
    {
     "name": "stdout",
     "output_type": "stream",
     "text": [
      "MoviePy - Done.\n",
      "Moviepy - Writing video G:/DCIM/100GOPRO/date_activity_person.mp4_Fergus.mp4\n",
      "\n"
     ]
    },
    {
     "name": "stderr",
     "output_type": "stream",
     "text": [
      "                                                              \r"
     ]
    },
    {
     "name": "stdout",
     "output_type": "stream",
     "text": [
      "Moviepy - Done !\n",
      "Moviepy - video ready G:/DCIM/100GOPRO/date_activity_person.mp4_Fergus.mp4\n",
      "GH0545_02.mp4\n",
      "{'Start Time': 492.0, 'Stop Time': 500.0}\n",
      "GH0545_03.mp4\n",
      "{'Start Time': 498.0, 'Stop Time': 503.0}\n",
      "Moviepy - Building video G:/DCIM/100GOPRO/date_activity_person.mp4_Sean.mp4.\n",
      "MoviePy - Writing audio in date_activity_person.mp4_SeanTEMP_MPY_wvf_snd.mp3\n"
     ]
    },
    {
     "name": "stderr",
     "output_type": "stream",
     "text": [
      "                                                                  \r"
     ]
    },
    {
     "name": "stdout",
     "output_type": "stream",
     "text": [
      "MoviePy - Done.\n",
      "Moviepy - Writing video G:/DCIM/100GOPRO/date_activity_person.mp4_Sean.mp4\n",
      "\n"
     ]
    },
    {
     "name": "stderr",
     "output_type": "stream",
     "text": [
      "                                                              \r"
     ]
    },
    {
     "name": "stdout",
     "output_type": "stream",
     "text": [
      "Moviepy - Done !\n",
      "Moviepy - video ready G:/DCIM/100GOPRO/date_activity_person.mp4_Sean.mp4\n",
      "GH0545_03.mp4\n",
      "{'Start Time': 235.0, 'Stop Time': 245.0}\n",
      "Moviepy - Building video G:/DCIM/100GOPRO/date_activity_person.mp4_Tiernan.mp4.\n",
      "MoviePy - Writing audio in date_activity_person.mp4_TiernanTEMP_MPY_wvf_snd.mp3\n"
     ]
    },
    {
     "name": "stderr",
     "output_type": "stream",
     "text": [
      "                                                                  \r"
     ]
    },
    {
     "name": "stdout",
     "output_type": "stream",
     "text": [
      "MoviePy - Done.\n",
      "Moviepy - Writing video G:/DCIM/100GOPRO/date_activity_person.mp4_Tiernan.mp4\n",
      "\n"
     ]
    },
    {
     "name": "stderr",
     "output_type": "stream",
     "text": [
      "                                                              \r"
     ]
    },
    {
     "name": "stdout",
     "output_type": "stream",
     "text": [
      "Moviepy - Done !\n",
      "Moviepy - video ready G:/DCIM/100GOPRO/date_activity_person.mp4_Tiernan.mp4\n"
     ]
    }
   ],
   "source": [
    "from video.export_video import ExportVideo\n",
    "\n",
    "export = ExportVideo(defaults,csvfile.csv_data)"
   ]
  },
  {
   "cell_type": "code",
   "execution_count": null,
   "metadata": {},
   "outputs": [],
   "source": [
    "from video.export_video import ExportVideo\n",
    "\n",
    "export = ExportVideo(defaults,csvfile.csv_data)"
   ]
  }
 ],
 "metadata": {
  "kernelspec": {
   "display_name": "Python 3.7.3 ('base')",
   "language": "python",
   "name": "python3"
  },
  "language_info": {
   "codemirror_mode": {
    "name": "ipython",
    "version": 3
   },
   "file_extension": ".py",
   "mimetype": "text/x-python",
   "name": "python",
   "nbconvert_exporter": "python",
   "pygments_lexer": "ipython3",
   "version": "3.7.3"
  },
  "orig_nbformat": 4,
  "vscode": {
   "interpreter": {
    "hash": "9c2b5422b173761dadbe6692aec3222af6981120c96c8900b3f936ddd8901fdb"
   }
  }
 },
 "nbformat": 4,
 "nbformat_minor": 2
}
