{
 "cells": [
  {
   "cell_type": "code",
   "execution_count": 24,
   "metadata": {},
   "outputs": [],
   "source": [
    "from tkinter import filedialog\n",
    "import os\n",
    "import pandas as pd\n",
    "from moviepy.video.compositing.concatenate import concatenate_videoclips\n",
    "import moviepy  \n",
    "from moviepy.editor import *\n",
    "from utilities.checkvaliddir import checkValidDirectory\n",
    "from utilities.csvfilesource import CsvFileSource"
   ]
  },
  {
   "cell_type": "code",
   "execution_count": 25,
   "metadata": {},
   "outputs": [],
   "source": [
    "class VideoEditor():\n",
    "    def __init__(self):\n",
    "        self.csvFileEdits = CsvFileSource()\n",
    "    def exportFromCsv(self):\n",
    "        self.csvFileEdits.importVideoCsv()\n",
    "        self.exportFromCsv()\n",
    "    #  Iclude importSort funtionality"
   ]
  }
 ],
 "metadata": {
  "interpreter": {
   "hash": "3eb63e5a0a198e6d6bb63971d90d405a60c118eb9bd4954e0ae0827f447d4dda"
  },
  "kernelspec": {
   "display_name": "Python 3.8.8 ('base')",
   "language": "python",
   "name": "python3"
  },
  "language_info": {
   "codemirror_mode": {
    "name": "ipython",
    "version": 3
   },
   "file_extension": ".py",
   "mimetype": "text/x-python",
   "name": "python",
   "nbconvert_exporter": "python",
   "pygments_lexer": "ipython3",
   "version": "3.8.8"
  },
  "orig_nbformat": 4
 },
 "nbformat": 4,
 "nbformat_minor": 2
}
