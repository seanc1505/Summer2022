{
 "cells": [
  {
   "cell_type": "code",
   "execution_count": null,
   "metadata": {},
   "outputs": [],
   "source": [
    "from utilities.finddatecreated import findDateCreated"
   ]
  },
  {
   "cell_type": "code",
   "execution_count": 18,
   "metadata": {},
   "outputs": [],
   "source": [
    "class Video():\n",
    "    def __init__(self,user_settings) -> None:\n",
    "        self.user_settings = user_settings\n",
    "        self.video_name = \"\"\n",
    "        self.video_path = \"\"\n",
    "        self.video_date_created = \"\"\n",
    "        self.video_length = \"\"\n",
    "\n",
    "class SourceVideo(Video):\n",
    "    def __init__(self,user_settings) -> None:\n",
    "        super().__init__(user_settings)\n",
    "        self.video_date_created = findDateCreated(self.video_path)\n",
    "    def importVideo(self,import_to=\"\"):\n",
    "        if import_to ==\"\":\n",
    "            import_to = self.user_settings[\"import_to_path\"]\n",
    "        if import_to[-1] != \"/\":\n",
    "            import_to += \"/\"\n",
    "        import_to += self.video_date_created"
   ]
  },
  {
   "cell_type": "code",
   "execution_count": 22,
   "metadata": {},
   "outputs": [
    {
     "name": "stdout",
     "output_type": "stream",
     "text": [
      "File selected: C:/Users/scahill2/Documents/Git/Summer2022/test/GH119911.mp4\n",
      "./test/\n"
     ]
    }
   ],
   "source": [
    "from defaults import Defaults\n",
    "from video import SourceVideo, Video\n",
    "default = Defaults()\n",
    "path = \"C:/Users/scahill2/Documents/Git/Summer2022/test/GH119911.mp4\"\n",
    "\n",
    "test = SourceVideo(path,default.user_settings)\n",
    "print(test.user_settings[\"import_to_path\"])\n",
    "# print(test.user_settings{\"import_from_path\"})"
   ]
  },
  {
   "cell_type": "code",
   "execution_count": null,
   "metadata": {},
   "outputs": [],
   "source": []
  }
 ],
 "metadata": {
  "interpreter": {
   "hash": "c26c7eef833d3c91c7fff80964ee95fcc035dea56ae10e60b0931b8feff19216"
  },
  "kernelspec": {
   "display_name": "Python 3.8.8 ('base')",
   "language": "python",
   "name": "python3"
  },
  "language_info": {
   "codemirror_mode": {
    "name": "ipython",
    "version": 3
   },
   "file_extension": ".py",
   "mimetype": "text/x-python",
   "name": "python",
   "nbconvert_exporter": "python",
   "pygments_lexer": "ipython3",
   "version": "3.8.8"
  },
  "orig_nbformat": 4
 },
 "nbformat": 4,
 "nbformat_minor": 2
}
