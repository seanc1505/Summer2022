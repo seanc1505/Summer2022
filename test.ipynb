{
 "cells": [
  {
   "cell_type": "code",
   "execution_count": null,
   "metadata": {},
   "outputs": [],
   "source": [
    "from utilities.checkvalidfile import checkValidFile\n",
    "from utilities.finddatecreated import findDateCreated\n",
    "from utilities.checkvaliddir import checkValidDirectory\n",
    "from utilities.findfilename import findFileName\n",
    "from defaults import Defaults\n",
    "from video.video import Video\n",
    "from video.source_video import SourceVideo\n",
    "import os"
   ]
  },
  {
   "cell_type": "code",
   "execution_count": null,
   "metadata": {},
   "outputs": [],
   "source": [
    "\n",
    "default = Defaults()\n",
    "path = \"D:/00_Videos/2022_04_17/GH0506_01.mp4\"\n",
    "test = SourceVideo(path,default.user_settings)\n",
    "\n",
    "\n",
    "# print(test.user_settings[\"import_to_path\"])\n",
    "# print(test.user_settings{\"import_from_path\"})"
   ]
  },
  {
   "cell_type": "code",
   "execution_count": null,
   "metadata": {},
   "outputs": [],
   "source": [
    "print(test.video_path)\n",
    "import_to = test.video_path"
   ]
  },
  {
   "cell_type": "code",
   "execution_count": null,
   "metadata": {},
   "outputs": [],
   "source": [
    "from video.export_video import ExportVideo\n",
    "from defaults import Defaults\n",
    "from csvfile import CsvFile\n",
    "\n",
    "\n",
    "defaults = Defaults()\n",
    "test_csv = CsvFile(defaults.user_settings)\n",
    "defaults = Defaults()\n",
    "test = ExportVideo(\"./test/GH91111.mp4\",default_settings=defaults.user_settings)\n",
    "test.exportVideo()\n"
   ]
  },
  {
   "cell_type": "code",
   "execution_count": null,
   "metadata": {},
   "outputs": [],
   "source": [
    "from csvfile import CsvFile\n",
    "\n",
    "\n",
    "defaults = Defaults()\n",
    "test_csv = CsvFile(defaults.user_settings)\n",
    "\n"
   ]
  },
  {
   "cell_type": "code",
   "execution_count": null,
   "metadata": {},
   "outputs": [],
   "source": [
    "# test_csv.createCsvManual()\n",
    "test_csv.importCsv()\n"
   ]
  },
  {
   "cell_type": "code",
   "execution_count": null,
   "metadata": {},
   "outputs": [],
   "source": [
    "test_csv.csv_data"
   ]
  },
  {
   "cell_type": "code",
   "execution_count": null,
   "metadata": {},
   "outputs": [],
   "source": [
    "subclip_dict = {}\n",
    "paddler_name_list = test_csv.csv_data['Paddler'].unique()\n",
    "video_name_list = test_csv.csv_data['Video Name'].unique()\n",
    "# for paddler in paddler_name_list:\n",
    "    # subclip_dict.update(paddler:{})\n",
    "subclip_dict = {}\n",
    "for paddler in paddler_name_list:\n",
    "    video_name_dict = {}\n",
    "    for video in video_name_list:\n",
    "        \n",
    "        video_name_dict[video] = \"temp\" +video\n",
    "    subclip_dict[paddler] = video_name_dict\n",
    "    print(subclip_dict)\n",
    "# for index, row in test_csv.csv_data.iterrows():\n",
    "    \n",
    "    # pass\n",
    "    # if row['Paddler'] = \n",
    "    "
   ]
  },
  {
   "cell_type": "code",
   "execution_count": null,
   "metadata": {},
   "outputs": [],
   "source": [
    "subclip_dict = {}\n",
    "paddler_name_dict = {}\n",
    "\n",
    "practice_dict = {\"sean\":}\n",
    "time_dict = {}\n",
    "\n",
    "for index,row in test_csv.csv_data.iterrows():\n",
    "    if index >3:\n",
    "        break\n",
    "    subclips_number = 0 \n",
    "    sub_video_name_dict = {}\n",
    "    video_name_dict = {}\n",
    "    time_dict['Start Time'] = row['Start Time']\n",
    "    time_dict['Stop Time'] = row['Stop Time']\n",
    "\n",
    "    if row['Paddler'] not in paddler_name_dict:\n",
    "        temp = \"\"\n",
    "        paddler_name_dict[row['Paddler']] = temp\n",
    "        if row['Video Name'] not in paddler_name_dict[row['Paddler']]:\n",
    "        \n",
    "            paddler_name_dict[row['Paddler']][row['Video Name']] = temp\n",
    "\n",
    "    # print(paddler_name_dict)\n",
    "print(\"done\")\n",
    "    # if row['Paddler'] in paddler_name_dict:\n",
    "    #     if row['Video Name'] in paddler_name_dict[row['Paddler']]:\n",
    "    #         # video_name_dict = subclip_dict[row['Paddler']]\n",
    "    #         subclips_number = max(paddler_name_dict[row['Paddler']][row['Video Name']])+1\n",
    "    \n",
    "    # sub_video_name_dict[subclips_number] = time_dict.copy()\n",
    "    # if row['Video Name'] not in video_name_dict:\n",
    "    #      video_name_dict[row['Video Name']] = sub_video_name_dict.copy()\n",
    "    # else:\n",
    "    #     video_name_dict[row['Video Name']].update(sub_video_name_dict.copy())\n",
    "    # if row['Paddler'] not in paddler_name_dict:\n",
    "    #     paddler_name_dict[row['Paddler']] = video_name_dict.copy()\n",
    "    # else: \n",
    "    #     paddler_name_dict[row['Paddler']].update(video_name_dict.copy())\n",
    "    # # subclip_dict[paddler_name_dict] \n",
    "    \n",
    "    # subclip_dict[subclip_dict[row['Paddler']][row['Video Name']]]\n",
    "print(paddler_name_dict)\n",
    "# subclip_dict"
   ]
  },
  {
   "cell_type": "code",
   "execution_count": null,
   "metadata": {},
   "outputs": [],
   "source": [
    "df = test_csv.csv_data.groupby('Paddler')['Video Name','Start Time','Stop Time'].apply(lambda x: x.set_index('Video Name').to_dict()).to_dict()\n",
    "df"
   ]
  },
  {
   "cell_type": "code",
   "execution_count": null,
   "metadata": {},
   "outputs": [],
   "source": [
    "# print(subclip_dict[row['Paddler']][row['Video Name']])\n",
    "# maximum = max(subclip_dict[row['Paddler']][row['Video Name']],key= subclip_dict[row['Paddler']][row['Video Name']].get)\n",
    "# print(maximum)\n",
    "\n",
    "x = max(subclip_dict[row['Paddler']][row['Video Name']])\n",
    "x"
   ]
  },
  {
   "cell_type": "code",
   "execution_count": null,
   "metadata": {},
   "outputs": [],
   "source": [
    "test = test_csv.csv_data\n",
    "\n",
    "testing = test.sort_values(['Paddler','Video Name'])\n",
    "testing = testing.reset_index(drop=True)\n",
    "testing\n"
   ]
  },
  {
   "cell_type": "code",
   "execution_count": null,
   "metadata": {},
   "outputs": [],
   "source": [
    "\n",
    "testing2= testing\n",
    "testing2['Subclip Num'] = 0\n",
    "for index,row in testing2.iterrows():\n",
    "    if index > 0:\n",
    "        if prev_row['Paddler'] == row['Paddler']:\n",
    "            # print(\"same paddles\")\n",
    "            if prev_row['Video Name'] == row['Video Name']:\n",
    "                # print(\"same video name\")\n",
    "                testing2.iloc[index,4] =  prev_row['Subclip Num']+1\n",
    "                row['Subclip Num'] = prev_row['Subclip Num']+1\n",
    "    prev_row = row\n",
    "\n",
    "    \n",
    "        \n",
    "        \n",
    "print(testing2)"
   ]
  },
  {
   "cell_type": "code",
   "execution_count": null,
   "metadata": {},
   "outputs": [],
   "source": [
    "testing3 = testing2\n",
    "time_dict = {}\n",
    "sub_video_name_dict = {}\n",
    "video_name_dict = {}\n",
    "paddler_name_dict = {}\n",
    "for index, row in testing3.iterrows():\n",
    "    print(index)\n",
    "    time_dict['Start Time'] = row['Start Time']\n",
    "    time_dict['Stop Time'] = row['Stop Time']\n",
    "    if index >= (len(testing3)-1):\n",
    "        print(\"hellp\")\n",
    "        video_name_dict[row['Video Name']] = sub_video_name_dict.copy()\n",
    "        paddler_name_dict[row['Paddler']] = video_name_dict.copy()\n",
    "  \n",
    "    elif index> 0:\n",
    "        if prev_row['Paddler'] == row['Paddler']:\n",
    "            if prev_row['Video Name'] == row['Video Name']:\n",
    "                sub_video_name_dict[row['Subclip Num']] = time_dict.copy()\n",
    "                \n",
    "            else:\n",
    "                video_name_dict[prev_row['Video Name']] = sub_video_name_dict.copy()\n",
    "                sub_video_name_dict = {}\n",
    "            \n",
    "        else: \n",
    "            paddler_name_dict[prev_row['Paddler']] = video_name_dict.copy()\n",
    "            video_name_dict = {}\n",
    "    \n",
    "    else:\n",
    "        sub_video_name_dict[row['Subclip Num']] = time_dict.copy()\n",
    "    prev_row = row\n",
    "\n",
    "print(paddler_name_dict)"
   ]
  },
  {
   "cell_type": "code",
   "execution_count": null,
   "metadata": {},
   "outputs": [],
   "source": [
    "print(len(testing3))"
   ]
  },
  {
   "cell_type": "code",
   "execution_count": 1,
   "metadata": {},
   "outputs": [
    {
     "name": "stdout",
     "output_type": "stream",
     "text": [
      "Checking for Csv File at: D:/00_Videos/2022_04_17/2022_04_17.csv\n",
      "File selected: D:/00_Videos/2022_04_17/2022_04_17.csv\n"
     ]
    },
    {
     "data": {
      "text/html": [
       "<div>\n",
       "<style scoped>\n",
       "    .dataframe tbody tr th:only-of-type {\n",
       "        vertical-align: middle;\n",
       "    }\n",
       "\n",
       "    .dataframe tbody tr th {\n",
       "        vertical-align: top;\n",
       "    }\n",
       "\n",
       "    .dataframe thead th {\n",
       "        text-align: right;\n",
       "    }\n",
       "</style>\n",
       "<table border=\"1\" class=\"dataframe\">\n",
       "  <thead>\n",
       "    <tr style=\"text-align: right;\">\n",
       "      <th></th>\n",
       "      <th>Video Name</th>\n",
       "      <th>Paddler</th>\n",
       "      <th>Start Time</th>\n",
       "      <th>Stop Time</th>\n",
       "      <th>Subclip Num</th>\n",
       "    </tr>\n",
       "  </thead>\n",
       "  <tbody>\n",
       "    <tr>\n",
       "      <th>0</th>\n",
       "      <td>GH0506_01.mp4</td>\n",
       "      <td>Ali</td>\n",
       "      <td>8.0</td>\n",
       "      <td>20.0</td>\n",
       "      <td>0</td>\n",
       "    </tr>\n",
       "    <tr>\n",
       "      <th>1</th>\n",
       "      <td>GH0519_01.mp4</td>\n",
       "      <td>Ali</td>\n",
       "      <td>40.0</td>\n",
       "      <td>43.0</td>\n",
       "      <td>0</td>\n",
       "    </tr>\n",
       "    <tr>\n",
       "      <th>2</th>\n",
       "      <td>GH0519_01.mp4</td>\n",
       "      <td>Ali</td>\n",
       "      <td>48.0</td>\n",
       "      <td>50.0</td>\n",
       "      <td>1</td>\n",
       "    </tr>\n",
       "    <tr>\n",
       "      <th>3</th>\n",
       "      <td>GH0506_01.mp4</td>\n",
       "      <td>Sean</td>\n",
       "      <td>0.0</td>\n",
       "      <td>7.0</td>\n",
       "      <td>0</td>\n",
       "    </tr>\n",
       "    <tr>\n",
       "      <th>4</th>\n",
       "      <td>GH0506_01.mp4</td>\n",
       "      <td>Sean</td>\n",
       "      <td>1.0</td>\n",
       "      <td>12.0</td>\n",
       "      <td>1</td>\n",
       "    </tr>\n",
       "    <tr>\n",
       "      <th>5</th>\n",
       "      <td>GH0506_01.mp4</td>\n",
       "      <td>Sean</td>\n",
       "      <td>12.0</td>\n",
       "      <td>14.0</td>\n",
       "      <td>2</td>\n",
       "    </tr>\n",
       "    <tr>\n",
       "      <th>6</th>\n",
       "      <td>GH0519_01.mp4</td>\n",
       "      <td>Sean</td>\n",
       "      <td>2.0</td>\n",
       "      <td>4.0</td>\n",
       "      <td>0</td>\n",
       "    </tr>\n",
       "    <tr>\n",
       "      <th>7</th>\n",
       "      <td>GH0519_01.mp4</td>\n",
       "      <td>Sean</td>\n",
       "      <td>4.0</td>\n",
       "      <td>8.0</td>\n",
       "      <td>1</td>\n",
       "    </tr>\n",
       "    <tr>\n",
       "      <th>8</th>\n",
       "      <td>GH0519_01.mp4</td>\n",
       "      <td>Sean</td>\n",
       "      <td>9.0</td>\n",
       "      <td>12.0</td>\n",
       "      <td>2</td>\n",
       "    </tr>\n",
       "    <tr>\n",
       "      <th>9</th>\n",
       "      <td>GH0519_01.mp4</td>\n",
       "      <td>Sean</td>\n",
       "      <td>0.0</td>\n",
       "      <td>3.0</td>\n",
       "      <td>3</td>\n",
       "    </tr>\n",
       "  </tbody>\n",
       "</table>\n",
       "</div>"
      ],
      "text/plain": [
       "      Video Name Paddler Start Time Stop Time  Subclip Num\n",
       "0  GH0506_01.mp4     Ali        8.0      20.0            0\n",
       "1  GH0519_01.mp4     Ali       40.0      43.0            0\n",
       "2  GH0519_01.mp4     Ali       48.0      50.0            1\n",
       "3  GH0506_01.mp4    Sean        0.0       7.0            0\n",
       "4  GH0506_01.mp4    Sean        1.0      12.0            1\n",
       "5  GH0506_01.mp4    Sean       12.0      14.0            2\n",
       "6  GH0519_01.mp4    Sean        2.0       4.0            0\n",
       "7  GH0519_01.mp4    Sean        4.0       8.0            1\n",
       "8  GH0519_01.mp4    Sean        9.0      12.0            2\n",
       "9  GH0519_01.mp4    Sean        0.0       3.0            3"
      ]
     },
     "execution_count": 1,
     "metadata": {},
     "output_type": "execute_result"
    }
   ],
   "source": [
    "\n",
    "from video.export_video import ExportVideo\n",
    "from defaults import Defaults\n",
    "from csvfile import CsvFile\n",
    "\n",
    "\n",
    "defaults = Defaults()\n",
    "test_csv = CsvFile(defaults.user_settings)\n",
    "test_csv.importCsv(\"D:/00_Videos/2022_04_17/2022_04_17.csv\")\n",
    "test_csv.csv_data\n",
    "# test = ExportVideo(\"./test/GH91111.mp4\",default_settings=defaults.user_settings)\n",
    "# test.exportVideo()\n"
   ]
  },
  {
   "cell_type": "code",
   "execution_count": 13,
   "metadata": {},
   "outputs": [
    {
     "name": "stdout",
     "output_type": "stream",
     "text": [
      "{}\n",
      "{}\n",
      "{}\n",
      "{'Ali': {'GH0506_01.mp4': {}, 'GH0519_01.mp4': {0: {'Start Time': 8.0, 'Stop Time': 20.0}}}}\n",
      "{'Ali': {'GH0506_01.mp4': {}, 'GH0519_01.mp4': {0: {'Start Time': 8.0, 'Stop Time': 20.0}}}}\n"
     ]
    }
   ],
   "source": [
    "time_dict = {}\n",
    "video_dict={}\n",
    "video_number_dict = {}\n",
    "paddler_dict = {}\n",
    "prev_row = \"\"\n",
    "for index,row in test_csv.csv_data.iterrows():\n",
    "    time_dict['Start Time'] = row['Start Time']\n",
    "    time_dict['Stop Time'] = row['Stop Time']\n",
    "    \n",
    "    if index > 4: \n",
    "        break\n",
    "    if row['Subclip Num'] == 0:\n",
    "        video_dict[row['Video Name']] = video_number_dict.copy()\n",
    "        video_number_dict = {}\n",
    "    if index >0:\n",
    "        if prev_row['Paddler'] != row['Paddler']:\n",
    "            paddler_dict[prev_row['Paddler']] = video_dict.copy()\n",
    "            video_dict = {}\n",
    "    \n",
    "    video_number_dict[row['Subclip Num']]=time_dict.copy()\n",
    "    prev_row=row\n",
    "    print(paddler_dict)"
   ]
  }
 ],
 "metadata": {
  "interpreter": {
   "hash": "c26c7eef833d3c91c7fff80964ee95fcc035dea56ae10e60b0931b8feff19216"
  },
  "kernelspec": {
   "display_name": "Python 3.8.8 ('base')",
   "language": "python",
   "name": "python3"
  },
  "language_info": {
   "codemirror_mode": {
    "name": "ipython",
    "version": 3
   },
   "file_extension": ".py",
   "mimetype": "text/x-python",
   "name": "python",
   "nbconvert_exporter": "python",
   "pygments_lexer": "ipython3",
   "version": "3.7.3"
  },
  "orig_nbformat": 4
 },
 "nbformat": 4,
 "nbformat_minor": 2
}
