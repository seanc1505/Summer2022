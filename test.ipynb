{
 "cells": [
  {
   "cell_type": "code",
   "execution_count": null,
   "metadata": {},
   "outputs": [],
   "source": [
    "from tkinter import filedialog\n",
    "import os\n",
    "import pandas as pd\n",
    "from moviepy.video.compositing.concatenate import concatenate_videoclips\n",
    "import moviepy  \n",
    "from moviepy.editor import *\n",
    "from utilities.checkvaliddir import checkValidDirectory\n",
    "from utilities.csvfilesource import CsvFileSource"
   ]
  },
  {
   "cell_type": "code",
   "execution_count": 1,
   "metadata": {},
   "outputs": [
    {
     "data": {
      "text/plain": [
       "{'import_source_path': 'D:/DCIM/',\n",
       " 'import_desitination_path': './test/',\n",
       " 'export_desitination_path': 'D:/DCIM/',\n",
       " 'csv_path': 'D:/DCIM/',\n",
       " 'import_base_name': 'GHXXXX_YY.mp4',\n",
       " 'export_base_name': 'YY_MM_DD_activity_person.mp4',\n",
       " 'date_format': '%Y_%m_%d',\n",
       " 'csv_headings': 'Video Name,Paddler,Start Time,Stop Time'}"
      ]
     },
     "execution_count": 1,
     "metadata": {},
     "output_type": "execute_result"
    }
   ],
   "source": [
    "from settings.settings import Settings\n",
    "\n",
    "settings= Settings()\n",
    "settings.importSettings(default_settings=True)\n",
    "settings.resetSettings()\n",
    "setted = Settings()\n",
    "setted.user_settings"
   ]
  },
  {
   "cell_type": "code",
   "execution_count": null,
   "metadata": {},
   "outputs": [],
   "source": [
    "class VideoEditor():\n",
    "    def __init__(self):\n",
    "        self.csvFileEdits = CsvFileSource()\n",
    "    def exportFromCsv(self):\n",
    "        self.csvFileEdits.importVideoCsv()\n",
    "        self.exportFromCsv()\n",
    "    #  Iclude importSort funtionality"
   ]
  }
 ],
 "metadata": {
  "kernelspec": {
   "display_name": "Python 3.7.3 ('base')",
   "language": "python",
   "name": "python3"
  },
  "language_info": {
   "codemirror_mode": {
    "name": "ipython",
    "version": 3
   },
   "file_extension": ".py",
   "mimetype": "text/x-python",
   "name": "python",
   "nbconvert_exporter": "python",
   "pygments_lexer": "ipython3",
   "version": "3.7.3"
  },
  "orig_nbformat": 4,
  "vscode": {
   "interpreter": {
    "hash": "9c2b5422b173761dadbe6692aec3222af6981120c96c8900b3f936ddd8901fdb"
   }
  }
 },
 "nbformat": 4,
 "nbformat_minor": 2
}
