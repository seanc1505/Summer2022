{
 "cells": [
  {
   "cell_type": "code",
   "execution_count": null,
   "metadata": {},
   "outputs": [],
   "source": [
    "from utilities.checkvalidfile import checkValidFile\n",
    "from utilities.finddatecreated import findDateCreated\n",
    "from utilities.checkvaliddir import checkValidDirectory\n",
    "from utilities.findfilename import findFileName\n",
    "from defaults import Defaults\n",
    "import moviepy\n",
    "from moviepy.video.compositing.concatenate import concatenate_videoclips\n",
    "from video.source_video import SourceVideo\n",
    "from video.export_video import ExportVideo\n",
    "import os"
   ]
  },
  {
   "cell_type": "code",
   "execution_count": 1,
   "metadata": {},
   "outputs": [],
   "source": [
    "from utilities.checkvaliddir import checkValidDirectory\n"
   ]
  },
  {
   "cell_type": "code",
   "execution_count": 2,
   "metadata": {},
   "outputs": [
    {
     "name": "stdout",
     "output_type": "stream",
     "text": [
      "TEST\n",
      "Error found with dir[WinError 3] The system cannot find the path specified: './blue/red'\n",
      "TEST\n",
      "TEST\n"
     ]
    },
    {
     "data": {
      "text/plain": [
       "'C:/Users/seanc/Documents/5_JOB/Exam Results'"
      ]
     },
     "execution_count": 2,
     "metadata": {},
     "output_type": "execute_result"
    }
   ],
   "source": [
    "\n",
    "dir = checkValidDirectory(dir = \"./blue/red\",make_if_fail=True)\n",
    "dir"
   ]
  },
  {
   "cell_type": "code",
   "execution_count": null,
   "metadata": {},
   "outputs": [],
   "source": [
    "\n",
    "from defaults import Defaults\n",
    "from video.source_video import SourceVideoDir\n",
    "\n",
    "defaults = Defaults()\n",
    "\n",
    "# source = SourceVideoDir(defaults)\n"
   ]
  },
  {
   "cell_type": "code",
   "execution_count": null,
   "metadata": {},
   "outputs": [],
   "source": [
    "from csvfile import CsvFile\n",
    "\n",
    "csvfile = CsvFile(defaults)\n",
    "csvfile.importCsv()\n"
   ]
  },
  {
   "cell_type": "code",
   "execution_count": null,
   "metadata": {},
   "outputs": [],
   "source": [
    "from video.export_video import ExportVideo\n",
    "\n",
    "export = ExportVideo(defaults,csvfile.csv_data)"
   ]
  },
  {
   "cell_type": "code",
   "execution_count": null,
   "metadata": {},
   "outputs": [],
   "source": [
    "from video.export_video import ExportVideo\n",
    "\n",
    "export = ExportVideo(defaults,csvfile.csv_data)"
   ]
  }
 ],
 "metadata": {
  "kernelspec": {
   "display_name": "Python 3.7.3 ('base')",
   "language": "python",
   "name": "python3"
  },
  "language_info": {
   "codemirror_mode": {
    "name": "ipython",
    "version": 3
   },
   "file_extension": ".py",
   "mimetype": "text/x-python",
   "name": "python",
   "nbconvert_exporter": "python",
   "pygments_lexer": "ipython3",
   "version": "3.7.3"
  },
  "orig_nbformat": 4,
  "vscode": {
   "interpreter": {
    "hash": "9c2b5422b173761dadbe6692aec3222af6981120c96c8900b3f936ddd8901fdb"
   }
  }
 },
 "nbformat": 4,
 "nbformat_minor": 2
}
