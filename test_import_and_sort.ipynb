{
 "cells": [
  {
   "cell_type": "code",
   "execution_count": null,
   "metadata": {},
   "outputs": [],
   "source": [
    "import os\n",
    "import datetime\n",
    "import shutil\n",
    "from tkinter import filedialog\n",
    "import os\n",
    "from tkinter import *\n",
    "from utilities.checkvaliddir import checkValidDirectory\n",
    "# Basic funtionality first\n",
    "# Hard coding the import location\n",
    "# Hard coding the save location and altering the naming convention"
   ]
  },
  {
   "cell_type": "code",
   "execution_count": null,
   "metadata": {},
   "outputs": [],
   "source": [
    "\n",
    "#Creates a folder based on the date a file was created\n",
    "def createSaveFolder(source_file,save_location):\n",
    "    save_location = checkValidDirectory(save_location)\n",
    "    # get recoded date\n",
    "    recorded_time = os.path.getmtime(source_file)\n",
    "    date_string_format = '%Y_%m_%d' #folder name format\n",
    "    # get it in the right format\n",
    "    date_recorded = datetime.datetime.utcfromtimestamp(recorded_time).strftime(date_string_format)\n",
    "    file_save_location = save_location+\"/\" + date_recorded\n",
    "    file_save_location = checkValidDirectory(file_save_location)\n",
    "    return file_save_location"
   ]
  },
  {
   "cell_type": "code",
   "execution_count": null,
   "metadata": {},
   "outputs": [],
   "source": [
    "def goproRename(file_name):\n",
    "    if file_name[:2] != \"GH\":\n",
    "        print(\"Not a gopro file: \" + file_name)\n",
    "        return file_name\n",
    "\n",
    "    if file_name[-7] != \"_\":\n",
    "                chapter = \"_\" + file_name[2:4]\n",
    "                updated_file_name = file_name[:2] + file_name[4:-4] +  chapter +\".mp4\"\n",
    "    return updated_file_name"
   ]
  },
  {
   "cell_type": "code",
   "execution_count": null,
   "metadata": {},
   "outputs": [],
   "source": [
    "\n",
    "source_dir = checkValidDirectory(source_dir)\n",
    "\n",
    "\n",
    "source_file = source_dir + \"/\"+ file_name\n",
    "save_dir = checkValidDirectory(save_dir)\n",
    "\n",
    "save_path = createSaveFolder(source_file=source_file, save_location=save_dir)\n",
    "\n",
    "new_name = goproRename(file_name=file_name)\n"
   ]
  },
  {
   "cell_type": "code",
   "execution_count": null,
   "metadata": {},
   "outputs": [],
   "source": []
  },
  {
   "cell_type": "code",
   "execution_count": null,
   "metadata": {},
   "outputs": [],
   "source": [
    "\n",
    "def importSort(source_path=\"\",save_location=\"\"):\n",
    "    \n",
    "    source_path = checkValidDirectory(source_path)\n",
    "    save_location = checkValidDirectory(save_location)\n",
    "\n",
    "    date_string_format = '%Y_%m_%d' #folder name format\n",
    "\n",
    "    file_list = os.listdir(source_path)\n",
    "\n",
    "    for file_name in file_list:\n",
    "        if file_name[-4:] == \".MP4\" or file_name[-4:] == \".mp4\":\n",
    "\n",
    "            source_file = source_path + file_name\n",
    "            # create/check destination folder is the date created\n",
    "            # Add a location argument in the future\n",
    "            save_path =  createSaveFolder(source_file,save_location)\n",
    "            \n",
    "            file_name = goproRename(file_name)\n",
    "            new_file_location = save_path +\"/\"+ file_name\n",
    "            print(\"Moving: \"+file_name)             \n",
    "            # Move file to new location\n",
    "            shutil.move(source_file, new_file_location)\n",
    "        elif file_name[-4:] == \".lrv\" or file_name[-4:] == \".thm\":\n",
    "            # delete all non mp4 files \n",
    "            os.remove(source_path+file_name)\n",
    "        else:\n",
    "            pass\n"
   ]
  },
  {
   "cell_type": "code",
   "execution_count": null,
   "metadata": {},
   "outputs": [],
   "source": [
    "# Functional test 1\n",
    "file_source = \"F:/DCIM/100GOPRO/\"# File source\n",
    "base_save_location = \"D:/00_Videos/\"# File save destination\n",
    "importSort(file_source,base_save_location)"
   ]
  },
  {
   "cell_type": "code",
   "execution_count": null,
   "metadata": {},
   "outputs": [],
   "source": [
    "# Functional test 2\n",
    "source_dir = \"C:/Users/scahill2/Documents/Git/Summer2022/test\"\n",
    "save_dir = \"C:/Users/scahill2/Documents/Git/Summer2022/test\"\n",
    "\n",
    "file_name = \"GH041234.mp4\"\n",
    "\n",
    "importSort(source_dir,save_dir)"
   ]
  },
  {
   "cell_type": "code",
   "execution_count": 13,
   "metadata": {},
   "outputs": [
    {
     "name": "stdout",
     "output_type": "stream",
     "text": [
      "Could not find directory, creating\n",
      "Directory selected: C:/Users/scahill2/Documents/Git/Summer2022/toast/\n",
      "Directory selected: C:/Users/scahill2/Documents/Git/Summer2022/test/\n"
     ]
    }
   ],
   "source": [
    "from import_and_sort import importSort\n",
    "save_location = \"C:/Users/scahill2/Documents/Git/Summer2022/test/\"\n",
    "source = \"C:/Users/scahill2/Documents/Git/Summer2022/toast/\"\n",
    "\n",
    "importSort(source,save_location)"
   ]
  },
  {
   "cell_type": "code",
   "execution_count": 15,
   "metadata": {},
   "outputs": [
    {
     "name": "stdout",
     "output_type": "stream",
     "text": [
      "Could not find directory, creating\n",
      "Directory selected: C:/Users/scahill2/Documents/Git/Summer2022/toast/\n",
      "Directory selected: C:/Users/scahill2/Documents/Git/Summer2022/test/\n"
     ]
    }
   ],
   "source": [
    "from import_and_sort import importSort\n",
    "save_location = \"C:/Users/scahill2/Documents/Git/Summer2022/test/\"\n",
    "source = \"C:/Users/scahill2/Documents/Git/Summer2022/toast/\"\n",
    "\n",
    "importSort(source,save_location)"
   ]
  }
 ],
 "metadata": {
  "interpreter": {
   "hash": "3eb63e5a0a198e6d6bb63971d90d405a60c118eb9bd4954e0ae0827f447d4dda"
  },
  "kernelspec": {
   "display_name": "Python 3",
   "language": "python",
   "name": "python3"
  },
  "language_info": {
   "codemirror_mode": {
    "name": "ipython",
    "version": 3
   },
   "file_extension": ".py",
   "mimetype": "text/x-python",
   "name": "python",
   "nbconvert_exporter": "python",
   "pygments_lexer": "ipython3",
   "version": "3.8.8"
  }
 },
 "nbformat": 4,
 "nbformat_minor": 2
}
